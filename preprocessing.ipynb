{
 "cells": [
  {
   "cell_type": "code",
   "execution_count": 40,
   "metadata": {},
   "outputs": [],
   "source": [
    "import pandas as pd\n",
    "import nltk\n",
    "from datetime import datetime\n",
    "from nltk.stem.snowball import SnowballStemmer\n",
    "import re\n",
    "import os\n",
    "import numpy as np\n",
    "from sklearn.pipeline import Pipeline\n",
    "from sklearn.feature_extraction.text import CountVectorizer\n",
    "from sklearn.svm import LinearSVC\n",
    "from sklearn.feature_extraction.text import TfidfTransformer\n",
    "from sklearn.multiclass import OneVsRestClassifier\n",
    "from sklearn.preprocessing import MultiLabelBinarizer\n",
    "from sklearn.ensemble import GradientBoostingClassifier\n",
    "from sklearn.externals import joblib\n",
    "from nltk.stem.snowball import SnowballStemmer\n",
    "from PIL import Image\n",
    "import matplotlib.pyplot as plt\n"
   ]
  },
  {
   "cell_type": "code",
   "execution_count": 47,
   "metadata": {},
   "outputs": [
    {
     "data": {
      "text/plain": [
       "0         клиент в настоящий момент находится на отдыхе ...\n",
       "1         ет договоров в работе, счет закрывать не будут...\n",
       "2                                      плохое фин положение\n",
       "3                   клиент попадает в просрочку. нет залога\n",
       "4         клиент поставляет оборудование в сеть магазино...\n",
       "5              кредит уже выдан, новый продукт не интересен\n",
       "6          выдача кредита 2216/бизнес-оборот в декабре 2016\n",
       "7         сфера деятельности клиента- арендный бизнес. и...\n",
       "8                                                22.02.2017\n",
       "9         достигнута договоренность о встрече на 08.02.2017\n",
       "10                                       встреча 14 февраля\n",
       "11        назначена встреча с клиентом на 21 февраля 201...\n",
       "12                      на территории клиента в 16-00 09/02\n",
       "13          назначена встреча с лпр на территории у клиента\n",
       "14        руководитель и гл. бухгалтер отсутствуют. буде...\n",
       "15        с клиентом проводили встречу в декабре прошлог...\n",
       "16                                                 недозвон\n",
       "17        сформировано предложение эо c номером 54316430...\n",
       "18        89031912944 гб татьяна сергеевна разговаривала...\n",
       "19        сначала разговор был с ириной михайловной, но ...\n",
       "20        на данный момент не потребности в кредитовании...\n",
       "21                                        назначаем встречу\n",
       "22        по кредитованию отказ - справляются за счет со...\n",
       "23        клиент заинтересовался продуктами ,назначена в...\n",
       "24                     достигнута договоренность о встрече.\n",
       "25        клиент занимается строительством жилых домов, ...\n",
       "26        клиенту предложить :.инвестиционное кредитован...\n",
       "27        назначена встреча на 03.02.2017 по кред продуктам\n",
       "28        компания входит в гк ортяков. потребности в кр...\n",
       "29        26.01. задача выставлена на акм для поиска кон...\n",
       "                                ...                        \n",
       "263177    клиент планирует приобрести технику . назначен...\n",
       "263178                         клиент подойдет в банк 14.12\n",
       "263179            79219127967 лпр, встреча 15.12.2016 12.00\n",
       "263180                      клиент закрыл свою деятельность\n",
       "263181    данному клиенту кредит не нужен. но у собствен...\n",
       "263182    89269865353 разговор с викторией,кредитование ...\n",
       "263183    клиента интересует покупка оборудования для с/...\n",
       "263184              назначена встреча в банке на 05.05.2016\n",
       "263185    имеет действующий кредит доверие. не будет бол...\n",
       "263186    р - на сегодня клиент не нуждается в кредитовании\n",
       "263187    директор долматов сергей викторович  телефон 3...\n",
       "263188                             клиенту надо перезвонить\n",
       "263189    раньше торговали алкоголем. теперь только сдаю...\n",
       "263190    клиент имеет постоянную наличную выручку и при...\n",
       "263191            строительство, нет потребности в кредитах\n",
       "263192       организация относится к гк лузина, сегмент ксб\n",
       "263193    +7 (925) 545-66-14,разговор с михаилом анатоль...\n",
       "263194    +7 (908) 2630909 совершен звонок предпринимате...\n",
       "263195    беседовал с андреем. ссудника в других банках ...\n",
       "263196    подняла трубку татаьяна николаевна. у организа...\n",
       "263197              лизинг. направлено предложение по сббол\n",
       "263198    11.03.2016 с клиентом проводил переговоры км н...\n",
       "263199    потребности в кредитовании и лизинговых продук...\n",
       "263200    клиент не берет трубку, относится к группе ком...\n",
       "263201    у клиента есть действующие кредиты в сб, позже...\n",
       "263202                    29/06/17 контрольный звонок 28.06\n",
       "263203    на текущий момент потребность в кредитовании о...\n",
       "263204    по указанию головной компании работают через т...\n",
       "263205    овердрафт по гк на подписание 10/10. планируем...\n",
       "263206    звонок совершен, кл олег владимирович +7 (911)...\n",
       "Name: TEXT, Length: 263207, dtype: object"
      ]
     },
     "execution_count": 47,
     "metadata": {},
     "output_type": "execute_result"
    }
   ],
   "source": [
    "data=pd.read_csv(\"data\\\\kred_unic_all.csv\", encoding='cp1251',delimiter=';')\n",
    "data['TEXT']"
   ]
  },
  {
   "cell_type": "code",
   "execution_count": 13,
   "metadata": {
    "collapsed": true
   },
   "outputs": [],
   "source": [
    "import datetime\n",
    "import re\n",
    "\n",
    "def valid_date(string):\n",
    "    string=string.split(' ')\n",
    "    parsed_string=''\n",
    "    for token in string:\n",
    "            try:\n",
    "                 parsed_string+=' '+(re.sub(r'(\\d{2}).(\\d{2}).?(\\d{0,4})', r'дата\\время', token))\n",
    "            except ValueError:\n",
    "                 parsed_string+=' '+token\n",
    "    return parsed_string\n",
    "\n",
    "def delete_punctuation(s):\n",
    "    return ' '.join((re.sub(r'[№\"\\'_/.:?!1234567890()%<>;,+#$&\\s+]', u' ', s)).split())\n",
    "\n",
    "def delete_stopwords(s):\n",
    "    return ' '.join([word for word in (re.sub(r'[()\\s+]', u' ', s)).split() if word not in stopwords])"
   ]
  },
  {
   "cell_type": "code",
   "execution_count": 8,
   "metadata": {},
   "outputs": [
    {
     "name": "stdout",
     "output_type": "stream",
     "text": [
      " +7 (925) 5дата\\время встреча дата\\времяг. подъеду в офис дата\\время дата\\время дата\\время звонок на дата\\время\n",
      " +7 (925) 5дата\\время встреча дата\\времяг. подъеду в офис дата\\время дата\\время дата\\время звонок на дата\\время\n",
      " +7 (925) 5дата\\время встреча дата\\времяг. подъеду в офис дата\\время дата\\время дата\\время звонок на дата\\время\n",
      " +7 (925) 5дата\\время встреча дата\\времяг. подъеду в офис дата\\время дата\\время дата\\время звонок на дата\\время\n",
      " +7 (925) 5дата\\время встреча дата\\времяг. подъеду в офис дата\\время дата\\время дата\\время звонок на дата\\время\n"
     ]
    }
   ],
   "source": [
    "datestring=['+7 (925) 545 98 86 встреча 18.03.2016г. подъеду в офис',\n",
    "            '12\\\\12\\\\2016', '18:00', \n",
    "            '12-12-16', 'звонок на 12:00']\n",
    "for s in datestring:\n",
    "    print(valid_date(s))\n"
   ]
  },
  {
   "cell_type": "code",
   "execution_count": null,
   "metadata": {},
   "outputs": [],
   "source": [
    "tokens=['клиент', 'клиенту', 'клиентом', 'клиенты']\n",
    "for t in tokens:\n",
    "    print(stemmer.stem(t))"
   ]
  },
  {
   "cell_type": "code",
   "execution_count": 4,
   "metadata": {
    "collapsed": true
   },
   "outputs": [],
   "source": [
    "stopwords=[u'и',u'в',u'во',u'что',u'он',u'на',u'я',u'с',u'со',u'как',u'а',u'то',u'все',u'она',u'так',u'его',u'но',u'да',u'ты',u'к',u'у',u'же',\n",
    "u'за',u'бы',u'по',u'только',u'ее',u'мне',u'было',u'вот',u'от',u'меня',u'еще', u'о',u'из',u'ему',u'теперь',u'когда',u'даже',u'ну',u'вдруг',\n",
    "u'ли',u'если',u'уже',u'или',u'ни',u'быть',u'был',u'него',u'до',u'вас',u'нибудь',u'опять',u'уж',u'вам',u'ведь',u'там',u'потом',u'себя',u'ничего',\n",
    "u'ей',u'может',u'они',u'тут',u'где',u'есть',u'надо',u'ней',u'для',u'мы',u'тебя',u'их',u'чем',u'была',u'сам',u'чтоб',u'без',u'будто',u'чего',u'раз',\n",
    "u'тоже',u'себе',u'под',u'будет',u'ж',u'тогда',u'кто',u'этот',u'того',u'потому',u'этого',u'какой',u'совсем',u'ним',u'здесь',u'этом',u'один',u'почти',u'мой',\n",
    "u'тем',u'чтобы', u'rur', u'rub', u'ru', u'руб', u'рублей', u'ндс', u'ooo', u'oao', u'без', u'ао', u'зао', u'г', u'ы', u'пао', u'гуп', u'ук',\n",
    "u'кпк', u'кх', u'бст', u'хк', u'ук', u'январь', u'февраль', u'март',u'апрель',u'май', u'июнь', u'июль', u'август', u'сентябрь', u'октябрь', u'ноябрь', u'декабрь',\n",
    "u'июл', u'феврал', u'распоряжение', u'облагается', u'n',  u'шт', u'период', u'г', u'eur', u'маы', u'апрел', u'июн', u'январ', u'иуне',\n",
    "u'иуле', u'дог', u'рублях', u'начисление', u'экз',  u'sd', u'возврат', u'взимание', u'ед', u'е', u'юр', u'а',u'б',u'в',u'г',u'д',u'е',u'ё',\n",
    "u'ж',u'з',u'и',u'к',u'л',u'м',u'н',u'о',u'п',u'р',u'с',u'т',u'у',u'ф',u'х',u'ц',u'ч',u'ш',u'щ',u'ъ',u'ы',u'ь',u'э',u'ю',u'я', u'р', u'б', u'н', u'нал', u'сч',\n",
    "u'запрос', u'ип', u'монеты', u'дс', u'бум', u'лоро', u'заявке', u'нальчик', 'a','b','v','g','d','e','e','zh','z','i','k','l','m','n','o','p','r','s','t','u','f','h',\n",
    "u'вал', u' подразд', u'приема', u'см', u'usd', u'sek', u'nok',  u'орому', u'орым', u'lc', u'usd', u'ов', u'vo', u'осб', u'сзб', u'visa', u'mastercard', u'тс',\n",
    "u'ммвб', u'фб', u'дату', u'инн', u'кпп', u'ко', u'пс', u'контр', u'кампания', u'бух', u'ген', u'дир', u'кампании', u'через', u'над', u'ксб', u'скб', u'над',\n",
    "u'списание', u'согл', u'распоряжению', u'свыше', u'виза', u'дог', u'файл', u'spe', u'spx', u'spdz', u'января',u'февраля', u'марта', u'апреля', u'мая', u'июня', u'июля', u'августа', u'сентября',\n",
    "u'октября', u'ноября', u'декабря', u'зао', u'ооо', u'оао', u'ао', u'без', u'пао', u'гуп', u'ук', u'кпк', u'кх', u'бст', u'хк']"
   ]
  },
  {
   "cell_type": "code",
   "execution_count": 46,
   "metadata": {},
   "outputs": [],
   "source": [
    "stemmer=SnowballStemmer(\"russian\")\n",
    "\n",
    "def collect(string):\n",
    "    for s in string.split(' '):\n",
    "        if (len(s)<4) & (s not in collection) & (s not in ['нет', 'не', 'др']):\n",
    "            collection.append(s)\n",
    "\n",
    "# collection=[]\n",
    "# data['TEXT'].apply(lambda x: collect(x))\n",
    "# stopwords=stopwords+collection\n",
    "stopwords=set(stopwords)\n",
    "\n",
    "def stemming(words):\n",
    "    stemmed_words=[]\n",
    "    for word in words:\n",
    "        if word not in stopwords:\n",
    "            stemmed_words.append(stemmer.stem(word))\n",
    "    return ' '.join(stemmed_words)\n",
    "\n",
    "def delete_stopwords(s):\n",
    "    return ' '.join([word for word in (re.sub(r'[()\\s+]', u' ', s)).split() if word not in stopwords])"
   ]
  },
  {
   "cell_type": "code",
   "execution_count": 32,
   "metadata": {},
   "outputs": [],
   "source": [
    "def preprocessing(data):\n",
    "    data=data.dropna()\n",
    "    data['TEXT']=data['TEXT'].apply(lambda x: delete_punctuation(valid_date(x.lower())).split())    \n",
    "    print(data['TEXT'])\n",
    "#     data=data.loc[[len(data['TEXT'])<7]]\n",
    "#     data['TEXT']=data['TEXT'].apply(lambda x: x.split())\n",
    "    data['TEXT']=data['TEXT'].apply(lambda x: stemming(x))\n",
    "    return data\n",
    "    "
   ]
  },
  {
   "cell_type": "code",
   "execution_count": 48,
   "metadata": {},
   "outputs": [
    {
     "name": "stdout",
     "output_type": "stream",
     "text": [
      "0         [клиент, в, настоящий, момент, находится, на, ...\n",
      "1         [ет, договоров, в, работе, счет, закрывать, не...\n",
      "2                                  [плохое, фин, положение]\n",
      "3             [клиент, попадает, в, просрочку, нет, залога]\n",
      "4         [клиент, поставляет, оборудование, в, сеть, ма...\n",
      "5         [кредит, уже, выдан, новый, продукт, не, интер...\n",
      "6              [выдача, кредита, бизнес-оборот, в, декабре]\n",
      "7         [сфера, деятельности, клиента-, арендный, бизн...\n",
      "8                                              [дата\\время]\n",
      "9         [достигнута, договоренность, о, встрече, на, д...\n",
      "10                                       [встреча, февраля]\n",
      "11        [назначена, встреча, с, клиентом, на, февраля,...\n",
      "12        [на, территории, клиента, в, дата\\время, дата\\...\n",
      "13        [назначена, встреча, с, лпр, на, территории, у...\n",
      "14        [руководитель, и, гл, бухгалтер, отсутствуют, ...\n",
      "15        [с, клиентом, проводили, встречу, в, декабре, ...\n",
      "16                                               [недозвон]\n",
      "17        [сформировано, предложение, эо, c, номером, да...\n",
      "18        [дата\\время, гб, татьяна, сергеевна, разговари...\n",
      "19        [сначала, разговор, был, с, ириной, михайловно...\n",
      "20        [на, данный, момент, не, потребности, в, креди...\n",
      "21                                     [назначаем, встречу]\n",
      "22        [по, кредитованию, отказ, -, справляются, за, ...\n",
      "23        [клиент, заинтересовался, продуктами, назначен...\n",
      "24                 [достигнута, договоренность, о, встрече]\n",
      "25        [клиент, занимается, строительством, жилых, до...\n",
      "26        [клиенту, предложить, инвестиционное, кредитов...\n",
      "27        [назначена, встреча, на, дата\\время, по, кред,...\n",
      "28        [компания, входит, в, гк, ортяков, потребности...\n",
      "29        [дата\\время, задача, выставлена, на, акм, для,...\n",
      "                                ...                        \n",
      "263177    [клиент, планирует, приобрести, технику, назна...\n",
      "263178              [клиент, подойдет, в, банк, дата\\время]\n",
      "263179    [дата\\время, лпр, встреча, дата\\время, дата\\вр...\n",
      "263180                 [клиент, закрыл, свою, деятельность]\n",
      "263181    [данному, клиенту, кредит, не, нужен, но, у, с...\n",
      "263182    [дата\\время, разговор, с, викторией, кредитова...\n",
      "263183    [клиента, интересует, покупка, оборудования, д...\n",
      "263184       [назначена, встреча, в, банке, на, дата\\время]\n",
      "263185    [имеет, действующий, кредит, доверие, не, буде...\n",
      "263186    [р, -, на, сегодня, клиент, не, нуждается, в, ...\n",
      "263187    [директор, долматов, сергей, викторович, телеф...\n",
      "263188                         [клиенту, надо, перезвонить]\n",
      "263189    [раньше, торговали, алкоголем, теперь, только,...\n",
      "263190    [клиент, имеет, постоянную, наличную, выручку,...\n",
      "263191       [строительство, нет, потребности, в, кредитах]\n",
      "263192    [организация, относится, к, гк, лузина, сегмен...\n",
      "263193    [дата\\время, разговор, с, михаилом, анатольеви...\n",
      "263194    [дата\\время, совершен, звонок, предпринимателю...\n",
      "263195    [беседовал, с, андреем, ссудника, в, других, б...\n",
      "263196    [подняла, трубку, татаьяна, николаевна, у, орг...\n",
      "263197         [лизинг, направлено, предложение, по, сббол]\n",
      "263198    [дата\\время, с, клиентом, проводил, переговоры...\n",
      "263199    [потребности, в, кредитовании, и, лизинговых, ...\n",
      "263200    [клиент, не, берет, трубку, относится, к, груп...\n",
      "263201    [у, клиента, есть, действующие, кредиты, в, сб...\n",
      "263202        [дата\\время, контрольный, звонок, дата\\время]\n",
      "263203    [на, текущий, момент, потребность, в, кредитов...\n",
      "263204    [по, указанию, головной, компании, работают, ч...\n",
      "263205    [овердрафт, по, гк, на, подписание, дата\\время...\n",
      "263206    [звонок, совершен, кл, олег, владимирович, дат...\n",
      "Name: TEXT, Length: 263207, dtype: object\n",
      "DONE\n"
     ]
    }
   ],
   "source": [
    "data=preprocessing(data)\n",
    "data.to_csv('preprocessing_result.csv', sep=';', encoding='cp1251')\n",
    "print('DONE')\n",
    "    "
   ]
  },
  {
   "cell_type": "code",
   "execution_count": null,
   "metadata": {},
   "outputs": [
    {
     "name": "stdout",
     "output_type": "stream",
     "text": [
      "Clustering with k-means (20 clusters) ... \n",
      "Clustering with k-means (21 clusters) ... \n",
      "Clustering with k-means (22 clusters) ... \n",
      "Clustering with k-means (23 clusters) ... \n",
      "Clustering with k-means (24 clusters) ... \n",
      "Clustering with k-means (25 clusters) ... \n",
      "Clustering with k-means (26 clusters) ... \n",
      "Clustering with k-means (27 clusters) ... \n",
      "Clustering with k-means (28 clusters) ... \n",
      "Clustering with k-means (29 clusters) ... \n",
      "Clustering with k-means (30 clusters) ... \n",
      "Clustering with k-means (31 clusters) ... \n",
      "Clustering with k-means (32 clusters) ... \n",
      "Clustering with k-means (33 clusters) ... \n",
      "Clustering with k-means (34 clusters) ... \n",
      "Clustering with k-means (35 clusters) ... \n",
      "Clustering with k-means (36 clusters) ... \n",
      "Clustering with k-means (37 clusters) ... \n",
      "Clustering with k-means (38 clusters) ... \n",
      "Clustering with k-means (39 clusters) ... \n",
      "Clustering with k-means (40 clusters) ... \n",
      "Clustering with k-means (41 clusters) ... \n",
      "Clustering with k-means (42 clusters) ... \n",
      "Clustering with k-means (43 clusters) ... \n",
      "Clustering with k-means (44 clusters) ... \n",
      "Clustering with k-means (45 clusters) ... \n",
      "Clustering with k-means (46 clusters) ... \n",
      "Clustering with k-means (47 clusters) ... \n",
      "Clustering with k-means (48 clusters) ... \n",
      "Clustering with k-means (49 clusters) ... \n",
      "Clustering with k-means (50 clusters) ... \n",
      "Clustering with k-means (51 clusters) ... \n",
      "Clustering with k-means (52 clusters) ... \n",
      "Clustering with k-means (53 clusters) ... \n"
     ]
    },
    {
     "ename": "KeyboardInterrupt",
     "evalue": "",
     "output_type": "error",
     "traceback": [
      "\u001b[1;31m---------------------------------------------------------------------------\u001b[0m",
      "\u001b[1;31mKeyboardInterrupt\u001b[0m                         Traceback (most recent call last)",
      "\u001b[1;32m<ipython-input-50-8055c4bfc2aa>\u001b[0m in \u001b[0;36m<module>\u001b[1;34m()\u001b[0m\n\u001b[0;32m     14\u001b[0m                 random_state=48)\n\u001b[0;32m     15\u001b[0m \u001b[1;33m\u001b[0m\u001b[0m\n\u001b[1;32m---> 16\u001b[1;33m     \u001b[0mkm\u001b[0m\u001b[1;33m.\u001b[0m\u001b[0mfit\u001b[0m\u001b[1;33m(\u001b[0m\u001b[0mvectors\u001b[0m\u001b[1;33m)\u001b[0m\u001b[1;33m\u001b[0m\u001b[0m\n\u001b[0m\u001b[0;32m     17\u001b[0m     \u001b[0mdistortions\u001b[0m\u001b[1;33m.\u001b[0m\u001b[0mappend\u001b[0m\u001b[1;33m(\u001b[0m\u001b[0mkm\u001b[0m\u001b[1;33m.\u001b[0m\u001b[0minertia_\u001b[0m\u001b[1;33m)\u001b[0m\u001b[1;33m\u001b[0m\u001b[0m\n\u001b[0;32m     18\u001b[0m \u001b[0mfig\u001b[0m\u001b[1;33m=\u001b[0m\u001b[0mplt\u001b[0m\u001b[1;33m.\u001b[0m\u001b[0mfigure\u001b[0m\u001b[1;33m(\u001b[0m\u001b[0mfigsize\u001b[0m\u001b[1;33m=\u001b[0m\u001b[1;33m(\u001b[0m\u001b[1;36m45\u001b[0m\u001b[1;33m,\u001b[0m\u001b[1;36m30\u001b[0m\u001b[1;33m)\u001b[0m\u001b[1;33m)\u001b[0m\u001b[1;33m\u001b[0m\u001b[0m\n",
      "\u001b[1;32mF:\\Users\\Cait\\Anaconda3\\lib\\site-packages\\sklearn\\cluster\\k_means_.py\u001b[0m in \u001b[0;36mfit\u001b[1;34m(self, X, y)\u001b[0m\n\u001b[0;32m    887\u001b[0m                 \u001b[0mtol\u001b[0m\u001b[1;33m=\u001b[0m\u001b[0mself\u001b[0m\u001b[1;33m.\u001b[0m\u001b[0mtol\u001b[0m\u001b[1;33m,\u001b[0m \u001b[0mrandom_state\u001b[0m\u001b[1;33m=\u001b[0m\u001b[0mrandom_state\u001b[0m\u001b[1;33m,\u001b[0m \u001b[0mcopy_x\u001b[0m\u001b[1;33m=\u001b[0m\u001b[0mself\u001b[0m\u001b[1;33m.\u001b[0m\u001b[0mcopy_x\u001b[0m\u001b[1;33m,\u001b[0m\u001b[1;33m\u001b[0m\u001b[0m\n\u001b[0;32m    888\u001b[0m                 \u001b[0mn_jobs\u001b[0m\u001b[1;33m=\u001b[0m\u001b[0mself\u001b[0m\u001b[1;33m.\u001b[0m\u001b[0mn_jobs\u001b[0m\u001b[1;33m,\u001b[0m \u001b[0malgorithm\u001b[0m\u001b[1;33m=\u001b[0m\u001b[0mself\u001b[0m\u001b[1;33m.\u001b[0m\u001b[0malgorithm\u001b[0m\u001b[1;33m,\u001b[0m\u001b[1;33m\u001b[0m\u001b[0m\n\u001b[1;32m--> 889\u001b[1;33m                 return_n_iter=True)\n\u001b[0m\u001b[0;32m    890\u001b[0m         \u001b[1;32mreturn\u001b[0m \u001b[0mself\u001b[0m\u001b[1;33m\u001b[0m\u001b[0m\n\u001b[0;32m    891\u001b[0m \u001b[1;33m\u001b[0m\u001b[0m\n",
      "\u001b[1;32mF:\\Users\\Cait\\Anaconda3\\lib\\site-packages\\sklearn\\cluster\\k_means_.py\u001b[0m in \u001b[0;36mk_means\u001b[1;34m(X, n_clusters, init, precompute_distances, n_init, max_iter, verbose, tol, random_state, copy_x, n_jobs, algorithm, return_n_iter)\u001b[0m\n\u001b[0;32m    343\u001b[0m                 \u001b[0mX\u001b[0m\u001b[1;33m,\u001b[0m \u001b[0mn_clusters\u001b[0m\u001b[1;33m,\u001b[0m \u001b[0mmax_iter\u001b[0m\u001b[1;33m=\u001b[0m\u001b[0mmax_iter\u001b[0m\u001b[1;33m,\u001b[0m \u001b[0minit\u001b[0m\u001b[1;33m=\u001b[0m\u001b[0minit\u001b[0m\u001b[1;33m,\u001b[0m \u001b[0mverbose\u001b[0m\u001b[1;33m=\u001b[0m\u001b[0mverbose\u001b[0m\u001b[1;33m,\u001b[0m\u001b[1;33m\u001b[0m\u001b[0m\n\u001b[0;32m    344\u001b[0m                 \u001b[0mprecompute_distances\u001b[0m\u001b[1;33m=\u001b[0m\u001b[0mprecompute_distances\u001b[0m\u001b[1;33m,\u001b[0m \u001b[0mtol\u001b[0m\u001b[1;33m=\u001b[0m\u001b[0mtol\u001b[0m\u001b[1;33m,\u001b[0m\u001b[1;33m\u001b[0m\u001b[0m\n\u001b[1;32m--> 345\u001b[1;33m                 x_squared_norms=x_squared_norms, random_state=random_state)\n\u001b[0m\u001b[0;32m    346\u001b[0m             \u001b[1;31m# determine if these results are the best so far\u001b[0m\u001b[1;33m\u001b[0m\u001b[1;33m\u001b[0m\u001b[0m\n\u001b[0;32m    347\u001b[0m             \u001b[1;32mif\u001b[0m \u001b[0mbest_inertia\u001b[0m \u001b[1;32mis\u001b[0m \u001b[1;32mNone\u001b[0m \u001b[1;32mor\u001b[0m \u001b[0minertia\u001b[0m \u001b[1;33m<\u001b[0m \u001b[0mbest_inertia\u001b[0m\u001b[1;33m:\u001b[0m\u001b[1;33m\u001b[0m\u001b[0m\n",
      "\u001b[1;32mF:\\Users\\Cait\\Anaconda3\\lib\\site-packages\\sklearn\\cluster\\k_means_.py\u001b[0m in \u001b[0;36m_kmeans_single_lloyd\u001b[1;34m(X, n_clusters, max_iter, init, verbose, x_squared_norms, random_state, tol, precompute_distances)\u001b[0m\n\u001b[0;32m    494\u001b[0m         \u001b[1;32mif\u001b[0m \u001b[0msp\u001b[0m\u001b[1;33m.\u001b[0m\u001b[0missparse\u001b[0m\u001b[1;33m(\u001b[0m\u001b[0mX\u001b[0m\u001b[1;33m)\u001b[0m\u001b[1;33m:\u001b[0m\u001b[1;33m\u001b[0m\u001b[0m\n\u001b[0;32m    495\u001b[0m             centers = _k_means._centers_sparse(X, labels, n_clusters,\n\u001b[1;32m--> 496\u001b[1;33m                                                distances)\n\u001b[0m\u001b[0;32m    497\u001b[0m         \u001b[1;32melse\u001b[0m\u001b[1;33m:\u001b[0m\u001b[1;33m\u001b[0m\u001b[0m\n\u001b[0;32m    498\u001b[0m             \u001b[0mcenters\u001b[0m \u001b[1;33m=\u001b[0m \u001b[0m_k_means\u001b[0m\u001b[1;33m.\u001b[0m\u001b[0m_centers_dense\u001b[0m\u001b[1;33m(\u001b[0m\u001b[0mX\u001b[0m\u001b[1;33m,\u001b[0m \u001b[0mlabels\u001b[0m\u001b[1;33m,\u001b[0m \u001b[0mn_clusters\u001b[0m\u001b[1;33m,\u001b[0m \u001b[0mdistances\u001b[0m\u001b[1;33m)\u001b[0m\u001b[1;33m\u001b[0m\u001b[0m\n",
      "\u001b[1;31mKeyboardInterrupt\u001b[0m: "
     ]
    }
   ],
   "source": [
    "from sklearn.cluster import KMeans\n",
    "from gensim.models.doc2vec import Doc2Vec, TaggedDocument\n",
    "import matplotlib.pyplot as plt\n",
    "import seaborn as sns\n",
    "\n",
    "vectorizer=CountVectorizer()\n",
    "vectors=vectorizer.fit_transform(data['TEXT'].values[:50000])\n",
    "distortions = []\n",
    "for i in range(20, 70):\n",
    "    print('Clustering with k-means (%d clusters) ... \\n' %(i), end='', flush=True)\n",
    "    km = KMeans(n_clusters=i, \n",
    "                init='k-means++', \n",
    "                n_init=10, \n",
    "                random_state=48)\n",
    "   \n",
    "    km.fit(vectors)\n",
    "    distortions.append(km.inertia_)\n",
    "fig=plt.figure(figsize=(45,30))\n",
    "plt.plot(range(2, 70), distortions, marker='o')\n",
    "plt.xlabel('Number of clusters')\n",
    "plt.ylabel('Distortion')\n",
    "plt.tight_layout()\n",
    "fig.savefig('elbow.png')\n",
    "plt.show()"
   ]
  },
  {
   "cell_type": "code",
   "execution_count": null,
   "metadata": {
    "collapsed": true
   },
   "outputs": [],
   "source": []
  }
 ],
 "metadata": {
  "kernelspec": {
   "display_name": "Python 3",
   "language": "python",
   "name": "python3"
  },
  "language_info": {
   "codemirror_mode": {
    "name": "ipython",
    "version": 3
   },
   "file_extension": ".py",
   "mimetype": "text/x-python",
   "name": "python",
   "nbconvert_exporter": "python",
   "pygments_lexer": "ipython3",
   "version": "3.5.2"
  }
 },
 "nbformat": 4,
 "nbformat_minor": 2
}
