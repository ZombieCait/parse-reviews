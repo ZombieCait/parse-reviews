{
 "cells": [
  {
   "cell_type": "code",
   "execution_count": 5,
   "metadata": {
    "collapsed": true
   },
   "outputs": [],
   "source": [
    "import pandas as pd\n",
    "import nltk\n",
    "from datetime import datetime\n",
    "from nltk.stem.snowball import SnowballStemmer"
   ]
  },
  {
   "cell_type": "code",
   "execution_count": 20,
   "metadata": {},
   "outputs": [
    {
     "data": {
      "text/plain": [
       "0         клиент в настоящий момент находится на отдыхе ...\n",
       "1         ет договоров в работе, счет закрывать не будут...\n",
       "2                                      плохое фин положение\n",
       "3                   клиент попадает в просрочку. нет залога\n",
       "4         клиент поставляет оборудование в сеть магазино...\n",
       "5              кредит уже выдан, новый продукт не интересен\n",
       "6          выдача кредита 2216/бизнес-оборот в декабре 2016\n",
       "7         сфера деятельности клиента- арендный бизнес. и...\n",
       "8                                                22.02.2017\n",
       "9         достигнута договоренность о встрече на 08.02.2017\n",
       "10                                       встреча 14 февраля\n",
       "11        назначена встреча с клиентом на 21 февраля 201...\n",
       "12                      на территории клиента в 16-00 09/02\n",
       "13          назначена встреча с лпр на территории у клиента\n",
       "14        руководитель и гл. бухгалтер отсутствуют. буде...\n",
       "15        с клиентом проводили встречу в декабре прошлог...\n",
       "16                                                 недозвон\n",
       "17        сформировано предложение эо c номером 54316430...\n",
       "18        89031912944 гб татьяна сергеевна разговаривала...\n",
       "19        сначала разговор был с ириной михайловной, но ...\n",
       "20        на данный момент не потребности в кредитовании...\n",
       "21                                        назначаем встречу\n",
       "22        по кредитованию отказ - справляются за счет со...\n",
       "23        клиент заинтересовался продуктами ,назначена в...\n",
       "24                     достигнута договоренность о встрече.\n",
       "25        клиент занимается строительством жилых домов, ...\n",
       "26        клиенту предложить :.инвестиционное кредитован...\n",
       "27        назначена встреча на 03.02.2017 по кред продуктам\n",
       "28        компания входит в гк ортяков. потребности в кр...\n",
       "29        26.01. задача выставлена на акм для поиска кон...\n",
       "                                ...                        \n",
       "263177    клиент планирует приобрести технику . назначен...\n",
       "263178                         клиент подойдет в банк 14.12\n",
       "263179            79219127967 лпр, встреча 15.12.2016 12.00\n",
       "263180                      клиент закрыл свою деятельность\n",
       "263181    данному клиенту кредит не нужен. но у собствен...\n",
       "263182    89269865353 разговор с викторией,кредитование ...\n",
       "263183    клиента интересует покупка оборудования для с/...\n",
       "263184              назначена встреча в банке на 05.05.2016\n",
       "263185    имеет действующий кредит доверие. не будет бол...\n",
       "263186    р - на сегодня клиент не нуждается в кредитовании\n",
       "263187    директор долматов сергей викторович  телефон 3...\n",
       "263188                             клиенту надо перезвонить\n",
       "263189    раньше торговали алкоголем. теперь только сдаю...\n",
       "263190    клиент имеет постоянную наличную выручку и при...\n",
       "263191            строительство, нет потребности в кредитах\n",
       "263192       организация относится к гк лузина, сегмент ксб\n",
       "263193    +7 (925) 545-66-14,разговор с михаилом анатоль...\n",
       "263194    +7 (908) 2630909 совершен звонок предпринимате...\n",
       "263195    беседовал с андреем. ссудника в других банках ...\n",
       "263196    подняла трубку татаьяна николаевна. у организа...\n",
       "263197              лизинг. направлено предложение по сббол\n",
       "263198    11.03.2016 с клиентом проводил переговоры км н...\n",
       "263199    потребности в кредитовании и лизинговых продук...\n",
       "263200    клиент не берет трубку, относится к группе ком...\n",
       "263201    у клиента есть действующие кредиты в сб, позже...\n",
       "263202                    29/06/17 контрольный звонок 28.06\n",
       "263203    на текущий момент потребность в кредитовании о...\n",
       "263204    по указанию головной компании работают через т...\n",
       "263205    овердрафт по гк на подписание 10/10. планируем...\n",
       "263206    звонок совершен, кл олег владимирович +7 (911)...\n",
       "Name: TEXT, Length: 263207, dtype: object"
      ]
     },
     "execution_count": 20,
     "metadata": {},
     "output_type": "execute_result"
    }
   ],
   "source": [
    "data=pd.read_csv(\"data\\\\kred_unic_all.csv\", encoding='cp1251',delimiter=';')\n",
    "data['TEXT']"
   ]
  },
  {
   "cell_type": "code",
   "execution_count": 21,
   "metadata": {
    "collapsed": true
   },
   "outputs": [],
   "source": [
    "import datetime\n",
    "import re\n",
    "\n",
    "def valid_date(string):\n",
    "    string=string.split(' ')\n",
    "    parsed_string=''\n",
    "    for token in datestring:\n",
    "            try:\n",
    "                 parsed_string+=' '+(re.sub(r'(\\d{2}).(\\d{2}).?(\\d{0,4})', r'дата\\время', token))\n",
    "            except ValueError:\n",
    "                 parsed_string+=' '+token\n",
    "    return parsed_string\n",
    "\n",
    "def delete_punctuation(s):\n",
    "    return ' '.join((re.sub(r'[№\"\\'_/.:?!1234567890()%<>;,+#$&\\s+]', u' ', s)).split())\n",
    "\n",
    "def delete_stopwords(s):\n",
    "    return ' '.join([word for word in (re.sub(r'[()\\s+]', u' ', s)).split() if word not in stopwords])"
   ]
  },
  {
   "cell_type": "code",
   "execution_count": 8,
   "metadata": {},
   "outputs": [
    {
     "name": "stdout",
     "output_type": "stream",
     "text": [
      " +7 (925) 5дата\\время встреча дата\\времяг. подъеду в офис дата\\время дата\\время дата\\время звонок на дата\\время\n",
      " +7 (925) 5дата\\время встреча дата\\времяг. подъеду в офис дата\\время дата\\время дата\\время звонок на дата\\время\n",
      " +7 (925) 5дата\\время встреча дата\\времяг. подъеду в офис дата\\время дата\\время дата\\время звонок на дата\\время\n",
      " +7 (925) 5дата\\время встреча дата\\времяг. подъеду в офис дата\\время дата\\время дата\\время звонок на дата\\время\n",
      " +7 (925) 5дата\\время встреча дата\\времяг. подъеду в офис дата\\время дата\\время дата\\время звонок на дата\\время\n"
     ]
    }
   ],
   "source": [
    "datestring=['+7 (925) 545 98 86 встреча 18.03.2016г. подъеду в офис',\n",
    "            '12\\\\12\\\\2016', '18:00', \n",
    "            '12-12-16', 'звонок на 12:00']\n",
    "for s in datestring:\n",
    "    print(valid_date(s))\n"
   ]
  },
  {
   "cell_type": "code",
   "execution_count": 9,
   "metadata": {},
   "outputs": [
    {
     "ename": "NameError",
     "evalue": "name 'stemmer' is not defined",
     "output_type": "error",
     "traceback": [
      "\u001b[1;31m---------------------------------------------------------------------------\u001b[0m",
      "\u001b[1;31mNameError\u001b[0m                                 Traceback (most recent call last)",
      "\u001b[1;32m<ipython-input-9-949b38a2b8ed>\u001b[0m in \u001b[0;36m<module>\u001b[1;34m()\u001b[0m\n\u001b[0;32m      1\u001b[0m \u001b[0mtokens\u001b[0m\u001b[1;33m=\u001b[0m\u001b[1;33m[\u001b[0m\u001b[1;34m'клиент'\u001b[0m\u001b[1;33m,\u001b[0m \u001b[1;34m'клиенту'\u001b[0m\u001b[1;33m,\u001b[0m \u001b[1;34m'клиентом'\u001b[0m\u001b[1;33m,\u001b[0m \u001b[1;34m'клиенты'\u001b[0m\u001b[1;33m]\u001b[0m\u001b[1;33m\u001b[0m\u001b[0m\n\u001b[0;32m      2\u001b[0m \u001b[1;32mfor\u001b[0m \u001b[0mt\u001b[0m \u001b[1;32min\u001b[0m \u001b[0mtokens\u001b[0m\u001b[1;33m:\u001b[0m\u001b[1;33m\u001b[0m\u001b[0m\n\u001b[1;32m----> 3\u001b[1;33m     \u001b[0mprint\u001b[0m\u001b[1;33m(\u001b[0m\u001b[0mstemmer\u001b[0m\u001b[1;33m.\u001b[0m\u001b[0mstem\u001b[0m\u001b[1;33m(\u001b[0m\u001b[0mt\u001b[0m\u001b[1;33m)\u001b[0m\u001b[1;33m)\u001b[0m\u001b[1;33m\u001b[0m\u001b[0m\n\u001b[0m",
      "\u001b[1;31mNameError\u001b[0m: name 'stemmer' is not defined"
     ]
    }
   ],
   "source": [
    "tokens=['клиент', 'клиенту', 'клиентом', 'клиенты']\n",
    "for t in tokens:\n",
    "    print(stemmer.stem(t))"
   ]
  },
  {
   "cell_type": "code",
   "execution_count": 10,
   "metadata": {
    "collapsed": true
   },
   "outputs": [],
   "source": [
    "stopwords=[u'и',u'в',u'во',u'что',u'он',u'на',u'я',u'с',u'со',u'как',u'а',u'то',u'все',u'она',u'так',u'его',u'но',u'да',u'ты',u'к',u'у',u'же',\n",
    "u'за',u'бы',u'по',u'только',u'ее',u'мне',u'было',u'вот',u'от',u'меня',u'еще',u'о',u'из',u'ему',u'теперь',u'когда',u'даже',u'ну',u'вдруг',\n",
    "u'ли',u'если',u'уже',u'или',u'ни',u'быть',u'был',u'него',u'до',u'вас',u'нибудь',u'опять',u'уж',u'вам',u'ведь',u'там',u'потом',u'себя',u'ничего',\n",
    "u'ей',u'может',u'они',u'тут',u'где',u'есть',u'надо',u'ней',u'для',u'мы',u'тебя',u'их',u'чем',u'была',u'сам',u'чтоб',u'без',u'будто',u'чего',u'раз',\n",
    "u'тоже',u'себе',u'под',u'будет',u'ж',u'тогда',u'кто',u'этот',u'того',u'потому',u'этого',u'какой',u'совсем',u'ним',u'здесь',u'этом',u'один',u'почти',u'мой',\n",
    "u'тем',u'чтобы', u'rur', u'rub', u'ru', u'руб',  u'ндс', u'начисление', u'ooo', u'oao', u'без', u'ао', u'зао', u'г', u'ы', u'пао', u'гуп', u'ук',\n",
    "u'кпк', u'кх', u'бст', u'хк', u'ук', u'январь', u'февраль', u'март',u'апрель',u'май', u'июнь', u'июль', u'август', u'сентябрь', u'октябрь', u'ноябрь', u'декабрь',\n",
    "u'июл', u'феврал', u'распоряжение', u'облагается', u'n', u'налога', u'сумма', u'договору', u'шт', u'период', u'г', u'eur', u'маы', u'апрел', u'июн', u'январ', u'иуне',\n",
    "u'иуле', u'дог', u'рублях', u'начисление', u'экз', u'запрос', u'сумму', u'счету', u'sd', u'возврат', u'взимание', u'ед', u'е', u'юр', u'а',u'б',u'в',u'г',u'д',u'е',u'ё',\n",
    "u'ж',u'з',u'и',u'к',u'л',u'м',u'н',u'о',u'п',u'р',u'с',u'т',u'у',u'ф',u'х',u'ц',u'ч',u'ш',u'щ',u'ъ',u'ы',u'ь',u'э',u'ю',u'я', u'р', u'б', u'н', u'нал', u'сч',\n",
    "u'запрос', u'ип', u'монеты', u'дс', u'бум', u'лоро', u'заявке', u'нальчик', 'a','b','v','g','d','e','e','zh','z','i','k','l','m','n','o','p','r','s','t','u','f','h',\n",
    "u'вал', u' подразд', u'приема', u'см', u'usd', u'sek', u'nok', u'подразделение', u'орому', u'орым', u'lc', u'usd', u'ов', u'vo', u'осб', u'сзб', u'visa', u'mastercard', u'тс',\n",
    "u'ммвб', u'фб', u'дату', u'закрытия', u'инн', u'кпп', u'ко', u'пс',u'исполнение',u'осуществление',u'плата',u'вознаграждение', u'контр', \n",
    "u'списание', u'согл', u'распоряжению', u'свыше', u'виза', u'дог', u'файл', u'spe', u'spx', u'spdz', u'января',u'февраля', u'марта', u'апреля', u'мая', u'июня', u'июля', u'августа', u'сентября',\n",
    "u'октября', u'ноября', u'декабря', u'зао', u'ооо', u'оао', u'ао', u'без', u'пао', u'гуп', u'ук', u'кпк', u'кх', u'бст', u'хк']"
   ]
  },
  {
   "cell_type": "code",
   "execution_count": 17,
   "metadata": {},
   "outputs": [],
   "source": [
    "small_words=[]\n",
    "\n",
    "def preprocessing(data):\n",
    "    data=data.dropna()\n",
    "    data['TEXT']=data['TEXT'].apply(lambda x: delete_punctuation(valid_date(x.lower())).split())    \n",
    "    print(data['Text'])\n",
    "    data=data.loc[[data['TEXT'].str.len().apply(len)<7]]\n",
    "    stemmer=SnowballStemmer(\"russian\")\n",
    "    \n",
    "    for i in data['TEXT'].index:\n",
    "        for x in data['TEXT'][i].split():\n",
    "            if len(ix)<3: \n",
    "                small_words.append(ix)\n",
    "    data.to_csv('preprocessing_result.csv', sep=';', encoding='cp1251')\n",
    "    "
   ]
  },
  {
   "cell_type": "code",
   "execution_count": 18,
   "metadata": {},
   "outputs": [
    {
     "ename": "KeyError",
     "evalue": "'Text'",
     "output_type": "error",
     "traceback": [
      "\u001b[1;31m---------------------------------------------------------------------------\u001b[0m",
      "\u001b[1;31mKeyError\u001b[0m                                  Traceback (most recent call last)",
      "\u001b[1;32mF:\\Users\\Cait\\Anaconda3\\lib\\site-packages\\pandas\\core\\indexes\\base.py\u001b[0m in \u001b[0;36mget_loc\u001b[1;34m(self, key, method, tolerance)\u001b[0m\n\u001b[0;32m   2392\u001b[0m             \u001b[1;32mtry\u001b[0m\u001b[1;33m:\u001b[0m\u001b[1;33m\u001b[0m\u001b[0m\n\u001b[1;32m-> 2393\u001b[1;33m                 \u001b[1;32mreturn\u001b[0m \u001b[0mself\u001b[0m\u001b[1;33m.\u001b[0m\u001b[0m_engine\u001b[0m\u001b[1;33m.\u001b[0m\u001b[0mget_loc\u001b[0m\u001b[1;33m(\u001b[0m\u001b[0mkey\u001b[0m\u001b[1;33m)\u001b[0m\u001b[1;33m\u001b[0m\u001b[0m\n\u001b[0m\u001b[0;32m   2394\u001b[0m             \u001b[1;32mexcept\u001b[0m \u001b[0mKeyError\u001b[0m\u001b[1;33m:\u001b[0m\u001b[1;33m\u001b[0m\u001b[0m\n",
      "\u001b[1;32mpandas\\_libs\\index.pyx\u001b[0m in \u001b[0;36mpandas._libs.index.IndexEngine.get_loc (pandas\\_libs\\index.c:5239)\u001b[1;34m()\u001b[0m\n",
      "\u001b[1;32mpandas\\_libs\\index.pyx\u001b[0m in \u001b[0;36mpandas._libs.index.IndexEngine.get_loc (pandas\\_libs\\index.c:5085)\u001b[1;34m()\u001b[0m\n",
      "\u001b[1;32mpandas\\_libs\\hashtable_class_helper.pxi\u001b[0m in \u001b[0;36mpandas._libs.hashtable.PyObjectHashTable.get_item (pandas\\_libs\\hashtable.c:20405)\u001b[1;34m()\u001b[0m\n",
      "\u001b[1;32mpandas\\_libs\\hashtable_class_helper.pxi\u001b[0m in \u001b[0;36mpandas._libs.hashtable.PyObjectHashTable.get_item (pandas\\_libs\\hashtable.c:20359)\u001b[1;34m()\u001b[0m\n",
      "\u001b[1;31mKeyError\u001b[0m: 'Text'",
      "\nDuring handling of the above exception, another exception occurred:\n",
      "\u001b[1;31mKeyError\u001b[0m                                  Traceback (most recent call last)",
      "\u001b[1;32m<ipython-input-18-e2f517982072>\u001b[0m in \u001b[0;36m<module>\u001b[1;34m()\u001b[0m\n\u001b[1;32m----> 1\u001b[1;33m \u001b[0mpreprocessing\u001b[0m\u001b[1;33m(\u001b[0m\u001b[0mdata\u001b[0m\u001b[1;33m)\u001b[0m\u001b[1;33m\u001b[0m\u001b[0m\n\u001b[0m",
      "\u001b[1;32m<ipython-input-17-66326a9128d6>\u001b[0m in \u001b[0;36mpreprocessing\u001b[1;34m(data)\u001b[0m\n\u001b[0;32m      4\u001b[0m     \u001b[0mdata\u001b[0m\u001b[1;33m=\u001b[0m\u001b[0mdata\u001b[0m\u001b[1;33m.\u001b[0m\u001b[0mdropna\u001b[0m\u001b[1;33m(\u001b[0m\u001b[1;33m)\u001b[0m\u001b[1;33m\u001b[0m\u001b[0m\n\u001b[0;32m      5\u001b[0m     \u001b[0mdata\u001b[0m\u001b[1;33m[\u001b[0m\u001b[1;34m'TEXT'\u001b[0m\u001b[1;33m]\u001b[0m\u001b[1;33m=\u001b[0m\u001b[0mdata\u001b[0m\u001b[1;33m[\u001b[0m\u001b[1;34m'TEXT'\u001b[0m\u001b[1;33m]\u001b[0m\u001b[1;33m.\u001b[0m\u001b[0mapply\u001b[0m\u001b[1;33m(\u001b[0m\u001b[1;32mlambda\u001b[0m \u001b[0mx\u001b[0m\u001b[1;33m:\u001b[0m \u001b[0mdelete_punctuation\u001b[0m\u001b[1;33m(\u001b[0m\u001b[0mvalid_date\u001b[0m\u001b[1;33m(\u001b[0m\u001b[0mx\u001b[0m\u001b[1;33m.\u001b[0m\u001b[0mlower\u001b[0m\u001b[1;33m(\u001b[0m\u001b[1;33m)\u001b[0m\u001b[1;33m)\u001b[0m\u001b[1;33m)\u001b[0m\u001b[1;33m.\u001b[0m\u001b[0msplit\u001b[0m\u001b[1;33m(\u001b[0m\u001b[1;33m)\u001b[0m\u001b[1;33m)\u001b[0m\u001b[1;33m\u001b[0m\u001b[0m\n\u001b[1;32m----> 6\u001b[1;33m     \u001b[0mprint\u001b[0m\u001b[1;33m(\u001b[0m\u001b[0mdata\u001b[0m\u001b[1;33m[\u001b[0m\u001b[1;34m'Text'\u001b[0m\u001b[1;33m]\u001b[0m\u001b[1;33m)\u001b[0m\u001b[1;33m\u001b[0m\u001b[0m\n\u001b[0m\u001b[0;32m      7\u001b[0m     \u001b[0mdata\u001b[0m\u001b[1;33m=\u001b[0m\u001b[0mdata\u001b[0m\u001b[1;33m.\u001b[0m\u001b[0mloc\u001b[0m\u001b[1;33m[\u001b[0m\u001b[1;33m[\u001b[0m\u001b[0mdata\u001b[0m\u001b[1;33m[\u001b[0m\u001b[1;34m'TEXT'\u001b[0m\u001b[1;33m]\u001b[0m\u001b[1;33m.\u001b[0m\u001b[0mstr\u001b[0m\u001b[1;33m.\u001b[0m\u001b[0mlen\u001b[0m\u001b[1;33m(\u001b[0m\u001b[1;33m)\u001b[0m\u001b[1;33m.\u001b[0m\u001b[0mapply\u001b[0m\u001b[1;33m(\u001b[0m\u001b[0mlen\u001b[0m\u001b[1;33m)\u001b[0m\u001b[1;33m<\u001b[0m\u001b[1;36m7\u001b[0m\u001b[1;33m]\u001b[0m\u001b[1;33m]\u001b[0m\u001b[1;33m\u001b[0m\u001b[0m\n\u001b[0;32m      8\u001b[0m     \u001b[0mstemmer\u001b[0m\u001b[1;33m=\u001b[0m\u001b[0mSnowballStemmer\u001b[0m\u001b[1;33m(\u001b[0m\u001b[1;34m\"russian\"\u001b[0m\u001b[1;33m)\u001b[0m\u001b[1;33m\u001b[0m\u001b[0m\n",
      "\u001b[1;32mF:\\Users\\Cait\\Anaconda3\\lib\\site-packages\\pandas\\core\\frame.py\u001b[0m in \u001b[0;36m__getitem__\u001b[1;34m(self, key)\u001b[0m\n\u001b[0;32m   2060\u001b[0m             \u001b[1;32mreturn\u001b[0m \u001b[0mself\u001b[0m\u001b[1;33m.\u001b[0m\u001b[0m_getitem_multilevel\u001b[0m\u001b[1;33m(\u001b[0m\u001b[0mkey\u001b[0m\u001b[1;33m)\u001b[0m\u001b[1;33m\u001b[0m\u001b[0m\n\u001b[0;32m   2061\u001b[0m         \u001b[1;32melse\u001b[0m\u001b[1;33m:\u001b[0m\u001b[1;33m\u001b[0m\u001b[0m\n\u001b[1;32m-> 2062\u001b[1;33m             \u001b[1;32mreturn\u001b[0m \u001b[0mself\u001b[0m\u001b[1;33m.\u001b[0m\u001b[0m_getitem_column\u001b[0m\u001b[1;33m(\u001b[0m\u001b[0mkey\u001b[0m\u001b[1;33m)\u001b[0m\u001b[1;33m\u001b[0m\u001b[0m\n\u001b[0m\u001b[0;32m   2063\u001b[0m \u001b[1;33m\u001b[0m\u001b[0m\n\u001b[0;32m   2064\u001b[0m     \u001b[1;32mdef\u001b[0m \u001b[0m_getitem_column\u001b[0m\u001b[1;33m(\u001b[0m\u001b[0mself\u001b[0m\u001b[1;33m,\u001b[0m \u001b[0mkey\u001b[0m\u001b[1;33m)\u001b[0m\u001b[1;33m:\u001b[0m\u001b[1;33m\u001b[0m\u001b[0m\n",
      "\u001b[1;32mF:\\Users\\Cait\\Anaconda3\\lib\\site-packages\\pandas\\core\\frame.py\u001b[0m in \u001b[0;36m_getitem_column\u001b[1;34m(self, key)\u001b[0m\n\u001b[0;32m   2067\u001b[0m         \u001b[1;31m# get column\u001b[0m\u001b[1;33m\u001b[0m\u001b[1;33m\u001b[0m\u001b[0m\n\u001b[0;32m   2068\u001b[0m         \u001b[1;32mif\u001b[0m \u001b[0mself\u001b[0m\u001b[1;33m.\u001b[0m\u001b[0mcolumns\u001b[0m\u001b[1;33m.\u001b[0m\u001b[0mis_unique\u001b[0m\u001b[1;33m:\u001b[0m\u001b[1;33m\u001b[0m\u001b[0m\n\u001b[1;32m-> 2069\u001b[1;33m             \u001b[1;32mreturn\u001b[0m \u001b[0mself\u001b[0m\u001b[1;33m.\u001b[0m\u001b[0m_get_item_cache\u001b[0m\u001b[1;33m(\u001b[0m\u001b[0mkey\u001b[0m\u001b[1;33m)\u001b[0m\u001b[1;33m\u001b[0m\u001b[0m\n\u001b[0m\u001b[0;32m   2070\u001b[0m \u001b[1;33m\u001b[0m\u001b[0m\n\u001b[0;32m   2071\u001b[0m         \u001b[1;31m# duplicate columns & possible reduce dimensionality\u001b[0m\u001b[1;33m\u001b[0m\u001b[1;33m\u001b[0m\u001b[0m\n",
      "\u001b[1;32mF:\\Users\\Cait\\Anaconda3\\lib\\site-packages\\pandas\\core\\generic.py\u001b[0m in \u001b[0;36m_get_item_cache\u001b[1;34m(self, item)\u001b[0m\n\u001b[0;32m   1532\u001b[0m         \u001b[0mres\u001b[0m \u001b[1;33m=\u001b[0m \u001b[0mcache\u001b[0m\u001b[1;33m.\u001b[0m\u001b[0mget\u001b[0m\u001b[1;33m(\u001b[0m\u001b[0mitem\u001b[0m\u001b[1;33m)\u001b[0m\u001b[1;33m\u001b[0m\u001b[0m\n\u001b[0;32m   1533\u001b[0m         \u001b[1;32mif\u001b[0m \u001b[0mres\u001b[0m \u001b[1;32mis\u001b[0m \u001b[1;32mNone\u001b[0m\u001b[1;33m:\u001b[0m\u001b[1;33m\u001b[0m\u001b[0m\n\u001b[1;32m-> 1534\u001b[1;33m             \u001b[0mvalues\u001b[0m \u001b[1;33m=\u001b[0m \u001b[0mself\u001b[0m\u001b[1;33m.\u001b[0m\u001b[0m_data\u001b[0m\u001b[1;33m.\u001b[0m\u001b[0mget\u001b[0m\u001b[1;33m(\u001b[0m\u001b[0mitem\u001b[0m\u001b[1;33m)\u001b[0m\u001b[1;33m\u001b[0m\u001b[0m\n\u001b[0m\u001b[0;32m   1535\u001b[0m             \u001b[0mres\u001b[0m \u001b[1;33m=\u001b[0m \u001b[0mself\u001b[0m\u001b[1;33m.\u001b[0m\u001b[0m_box_item_values\u001b[0m\u001b[1;33m(\u001b[0m\u001b[0mitem\u001b[0m\u001b[1;33m,\u001b[0m \u001b[0mvalues\u001b[0m\u001b[1;33m)\u001b[0m\u001b[1;33m\u001b[0m\u001b[0m\n\u001b[0;32m   1536\u001b[0m             \u001b[0mcache\u001b[0m\u001b[1;33m[\u001b[0m\u001b[0mitem\u001b[0m\u001b[1;33m]\u001b[0m \u001b[1;33m=\u001b[0m \u001b[0mres\u001b[0m\u001b[1;33m\u001b[0m\u001b[0m\n",
      "\u001b[1;32mF:\\Users\\Cait\\Anaconda3\\lib\\site-packages\\pandas\\core\\internals.py\u001b[0m in \u001b[0;36mget\u001b[1;34m(self, item, fastpath)\u001b[0m\n\u001b[0;32m   3588\u001b[0m \u001b[1;33m\u001b[0m\u001b[0m\n\u001b[0;32m   3589\u001b[0m             \u001b[1;32mif\u001b[0m \u001b[1;32mnot\u001b[0m \u001b[0misnull\u001b[0m\u001b[1;33m(\u001b[0m\u001b[0mitem\u001b[0m\u001b[1;33m)\u001b[0m\u001b[1;33m:\u001b[0m\u001b[1;33m\u001b[0m\u001b[0m\n\u001b[1;32m-> 3590\u001b[1;33m                 \u001b[0mloc\u001b[0m \u001b[1;33m=\u001b[0m \u001b[0mself\u001b[0m\u001b[1;33m.\u001b[0m\u001b[0mitems\u001b[0m\u001b[1;33m.\u001b[0m\u001b[0mget_loc\u001b[0m\u001b[1;33m(\u001b[0m\u001b[0mitem\u001b[0m\u001b[1;33m)\u001b[0m\u001b[1;33m\u001b[0m\u001b[0m\n\u001b[0m\u001b[0;32m   3591\u001b[0m             \u001b[1;32melse\u001b[0m\u001b[1;33m:\u001b[0m\u001b[1;33m\u001b[0m\u001b[0m\n\u001b[0;32m   3592\u001b[0m                 \u001b[0mindexer\u001b[0m \u001b[1;33m=\u001b[0m \u001b[0mnp\u001b[0m\u001b[1;33m.\u001b[0m\u001b[0marange\u001b[0m\u001b[1;33m(\u001b[0m\u001b[0mlen\u001b[0m\u001b[1;33m(\u001b[0m\u001b[0mself\u001b[0m\u001b[1;33m.\u001b[0m\u001b[0mitems\u001b[0m\u001b[1;33m)\u001b[0m\u001b[1;33m)\u001b[0m\u001b[1;33m[\u001b[0m\u001b[0misnull\u001b[0m\u001b[1;33m(\u001b[0m\u001b[0mself\u001b[0m\u001b[1;33m.\u001b[0m\u001b[0mitems\u001b[0m\u001b[1;33m)\u001b[0m\u001b[1;33m]\u001b[0m\u001b[1;33m\u001b[0m\u001b[0m\n",
      "\u001b[1;32mF:\\Users\\Cait\\Anaconda3\\lib\\site-packages\\pandas\\core\\indexes\\base.py\u001b[0m in \u001b[0;36mget_loc\u001b[1;34m(self, key, method, tolerance)\u001b[0m\n\u001b[0;32m   2393\u001b[0m                 \u001b[1;32mreturn\u001b[0m \u001b[0mself\u001b[0m\u001b[1;33m.\u001b[0m\u001b[0m_engine\u001b[0m\u001b[1;33m.\u001b[0m\u001b[0mget_loc\u001b[0m\u001b[1;33m(\u001b[0m\u001b[0mkey\u001b[0m\u001b[1;33m)\u001b[0m\u001b[1;33m\u001b[0m\u001b[0m\n\u001b[0;32m   2394\u001b[0m             \u001b[1;32mexcept\u001b[0m \u001b[0mKeyError\u001b[0m\u001b[1;33m:\u001b[0m\u001b[1;33m\u001b[0m\u001b[0m\n\u001b[1;32m-> 2395\u001b[1;33m                 \u001b[1;32mreturn\u001b[0m \u001b[0mself\u001b[0m\u001b[1;33m.\u001b[0m\u001b[0m_engine\u001b[0m\u001b[1;33m.\u001b[0m\u001b[0mget_loc\u001b[0m\u001b[1;33m(\u001b[0m\u001b[0mself\u001b[0m\u001b[1;33m.\u001b[0m\u001b[0m_maybe_cast_indexer\u001b[0m\u001b[1;33m(\u001b[0m\u001b[0mkey\u001b[0m\u001b[1;33m)\u001b[0m\u001b[1;33m)\u001b[0m\u001b[1;33m\u001b[0m\u001b[0m\n\u001b[0m\u001b[0;32m   2396\u001b[0m \u001b[1;33m\u001b[0m\u001b[0m\n\u001b[0;32m   2397\u001b[0m         \u001b[0mindexer\u001b[0m \u001b[1;33m=\u001b[0m \u001b[0mself\u001b[0m\u001b[1;33m.\u001b[0m\u001b[0mget_indexer\u001b[0m\u001b[1;33m(\u001b[0m\u001b[1;33m[\u001b[0m\u001b[0mkey\u001b[0m\u001b[1;33m]\u001b[0m\u001b[1;33m,\u001b[0m \u001b[0mmethod\u001b[0m\u001b[1;33m=\u001b[0m\u001b[0mmethod\u001b[0m\u001b[1;33m,\u001b[0m \u001b[0mtolerance\u001b[0m\u001b[1;33m=\u001b[0m\u001b[0mtolerance\u001b[0m\u001b[1;33m)\u001b[0m\u001b[1;33m\u001b[0m\u001b[0m\n",
      "\u001b[1;32mpandas\\_libs\\index.pyx\u001b[0m in \u001b[0;36mpandas._libs.index.IndexEngine.get_loc (pandas\\_libs\\index.c:5239)\u001b[1;34m()\u001b[0m\n",
      "\u001b[1;32mpandas\\_libs\\index.pyx\u001b[0m in \u001b[0;36mpandas._libs.index.IndexEngine.get_loc (pandas\\_libs\\index.c:5085)\u001b[1;34m()\u001b[0m\n",
      "\u001b[1;32mpandas\\_libs\\hashtable_class_helper.pxi\u001b[0m in \u001b[0;36mpandas._libs.hashtable.PyObjectHashTable.get_item (pandas\\_libs\\hashtable.c:20405)\u001b[1;34m()\u001b[0m\n",
      "\u001b[1;32mpandas\\_libs\\hashtable_class_helper.pxi\u001b[0m in \u001b[0;36mpandas._libs.hashtable.PyObjectHashTable.get_item (pandas\\_libs\\hashtable.c:20359)\u001b[1;34m()\u001b[0m\n",
      "\u001b[1;31mKeyError\u001b[0m: 'Text'"
     ]
    }
   ],
   "source": [
    "preprocessing(data)data['TEXT']=data['TEXT'].apply(lambda x: delete_punctuation(valid_date(x.lower())).split()) "
   ]
  },
  {
   "cell_type": "code",
   "execution_count": 22,
   "metadata": {},
   "outputs": [
    {
     "data": {
      "text/plain": [
       "0         [дата\\время, встреча, дата\\времяг, подъеду, в,...\n",
       "1         [дата\\время, встреча, дата\\времяг, подъеду, в,...\n",
       "2         [дата\\время, встреча, дата\\времяг, подъеду, в,...\n",
       "3         [дата\\время, встреча, дата\\времяг, подъеду, в,...\n",
       "4         [дата\\время, встреча, дата\\времяг, подъеду, в,...\n",
       "5         [дата\\время, встреча, дата\\времяг, подъеду, в,...\n",
       "6         [дата\\время, встреча, дата\\времяг, подъеду, в,...\n",
       "7         [дата\\время, встреча, дата\\времяг, подъеду, в,...\n",
       "8         [дата\\время, встреча, дата\\времяг, подъеду, в,...\n",
       "9         [дата\\время, встреча, дата\\времяг, подъеду, в,...\n",
       "10        [дата\\время, встреча, дата\\времяг, подъеду, в,...\n",
       "11        [дата\\время, встреча, дата\\времяг, подъеду, в,...\n",
       "12        [дата\\время, встреча, дата\\времяг, подъеду, в,...\n",
       "13        [дата\\время, встреча, дата\\времяг, подъеду, в,...\n",
       "14        [дата\\время, встреча, дата\\времяг, подъеду, в,...\n",
       "15        [дата\\время, встреча, дата\\времяг, подъеду, в,...\n",
       "16        [дата\\время, встреча, дата\\времяг, подъеду, в,...\n",
       "17        [дата\\время, встреча, дата\\времяг, подъеду, в,...\n",
       "18        [дата\\время, встреча, дата\\времяг, подъеду, в,...\n",
       "19        [дата\\время, встреча, дата\\времяг, подъеду, в,...\n",
       "20        [дата\\время, встреча, дата\\времяг, подъеду, в,...\n",
       "21        [дата\\время, встреча, дата\\времяг, подъеду, в,...\n",
       "22        [дата\\время, встреча, дата\\времяг, подъеду, в,...\n",
       "23        [дата\\время, встреча, дата\\времяг, подъеду, в,...\n",
       "24        [дата\\время, встреча, дата\\времяг, подъеду, в,...\n",
       "25        [дата\\время, встреча, дата\\времяг, подъеду, в,...\n",
       "26        [дата\\время, встреча, дата\\времяг, подъеду, в,...\n",
       "27        [дата\\время, встреча, дата\\времяг, подъеду, в,...\n",
       "28        [дата\\время, встреча, дата\\времяг, подъеду, в,...\n",
       "29        [дата\\время, встреча, дата\\времяг, подъеду, в,...\n",
       "                                ...                        \n",
       "263177    [дата\\время, встреча, дата\\времяг, подъеду, в,...\n",
       "263178    [дата\\время, встреча, дата\\времяг, подъеду, в,...\n",
       "263179    [дата\\время, встреча, дата\\времяг, подъеду, в,...\n",
       "263180    [дата\\время, встреча, дата\\времяг, подъеду, в,...\n",
       "263181    [дата\\время, встреча, дата\\времяг, подъеду, в,...\n",
       "263182    [дата\\время, встреча, дата\\времяг, подъеду, в,...\n",
       "263183    [дата\\время, встреча, дата\\времяг, подъеду, в,...\n",
       "263184    [дата\\время, встреча, дата\\времяг, подъеду, в,...\n",
       "263185    [дата\\время, встреча, дата\\времяг, подъеду, в,...\n",
       "263186    [дата\\время, встреча, дата\\времяг, подъеду, в,...\n",
       "263187    [дата\\время, встреча, дата\\времяг, подъеду, в,...\n",
       "263188    [дата\\время, встреча, дата\\времяг, подъеду, в,...\n",
       "263189    [дата\\время, встреча, дата\\времяг, подъеду, в,...\n",
       "263190    [дата\\время, встреча, дата\\времяг, подъеду, в,...\n",
       "263191    [дата\\время, встреча, дата\\времяг, подъеду, в,...\n",
       "263192    [дата\\время, встреча, дата\\времяг, подъеду, в,...\n",
       "263193    [дата\\время, встреча, дата\\времяг, подъеду, в,...\n",
       "263194    [дата\\время, встреча, дата\\времяг, подъеду, в,...\n",
       "263195    [дата\\время, встреча, дата\\времяг, подъеду, в,...\n",
       "263196    [дата\\время, встреча, дата\\времяг, подъеду, в,...\n",
       "263197    [дата\\время, встреча, дата\\времяг, подъеду, в,...\n",
       "263198    [дата\\время, встреча, дата\\времяг, подъеду, в,...\n",
       "263199    [дата\\время, встреча, дата\\времяг, подъеду, в,...\n",
       "263200    [дата\\время, встреча, дата\\времяг, подъеду, в,...\n",
       "263201    [дата\\время, встреча, дата\\времяг, подъеду, в,...\n",
       "263202    [дата\\время, встреча, дата\\времяг, подъеду, в,...\n",
       "263203    [дата\\время, встреча, дата\\времяг, подъеду, в,...\n",
       "263204    [дата\\время, встреча, дата\\времяг, подъеду, в,...\n",
       "263205    [дата\\время, встреча, дата\\времяг, подъеду, в,...\n",
       "263206    [дата\\время, встреча, дата\\времяг, подъеду, в,...\n",
       "Name: TEXT, Length: 263207, dtype: object"
      ]
     },
     "execution_count": 22,
     "metadata": {},
     "output_type": "execute_result"
    }
   ],
   "source": [
    "data['TEXT'].apply(lambda x: delete_punctuation(valid_date(x.lower())).split()) "
   ]
  },
  {
   "cell_type": "code",
   "execution_count": null,
   "metadata": {
    "collapsed": true
   },
   "outputs": [],
   "source": []
  }
 ],
 "metadata": {
  "kernelspec": {
   "display_name": "Python 3",
   "language": "python",
   "name": "python3"
  },
  "language_info": {
   "codemirror_mode": {
    "name": "ipython",
    "version": 3
   },
   "file_extension": ".py",
   "mimetype": "text/x-python",
   "name": "python",
   "nbconvert_exporter": "python",
   "pygments_lexer": "ipython3",
   "version": "3.5.2"
  }
 },
 "nbformat": 4,
 "nbformat_minor": 2
}
